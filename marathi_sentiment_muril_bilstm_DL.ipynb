{
  "nbformat": 4,
  "nbformat_minor": 0,
  "metadata": {
    "colab": {
      "name": "marathi sentiment_muril_bilstm_DL.ipynb",
      "provenance": [],
      "authorship_tag": "ABX9TyMUjkomnNkli9T5K7mB8JDZ",
      "include_colab_link": true
    },
    "kernelspec": {
      "name": "python3",
      "display_name": "Python 3"
    },
    "language_info": {
      "name": "python"
    },
    "accelerator": "GPU"
  },
  "cells": [
    {
      "cell_type": "markdown",
      "metadata": {
        "id": "view-in-github",
        "colab_type": "text"
      },
      "source": [
        "<a href=\"https://colab.research.google.com/github/Daishinkan002/Sentiment-Analysis-of-Marathi-Tweets/blob/main/marathi_sentiment_muril_bilstm_DL.ipynb\" target=\"_parent\"><img src=\"https://colab.research.google.com/assets/colab-badge.svg\" alt=\"Open In Colab\"/></a>"
      ]
    },
    {
      "cell_type": "markdown",
      "source": [
        "# Import Libraries"
      ],
      "metadata": {
        "id": "T4-RKh__QMPQ"
      }
    },
    {
      "cell_type": "code",
      "source": [
        "import os\n",
        "import re\n",
        "import string\n",
        "from tqdm import tqdm\n",
        "import pandas as pd\n",
        "from multiprocessing import Pool\n",
        "import numpy as np\n",
        "import pickle\n",
        "os.system('pip install -qq transformers')\n",
        "os.system('pip install -q -U watermark')\n",
        "import transformers\n",
        "from transformers import BertModel, BertTokenizer, AdamW, get_linear_schedule_with_warmup\n",
        "import torch\n",
        "from transformers import AutoModel, AutoTokenizer \n",
        "import numpy as np\n",
        "import pandas as pd\n",
        "import seaborn as sns\n",
        "from pylab import rcParams\n",
        "import matplotlib.pyplot as plt\n",
        "from matplotlib import rc\n",
        "from sklearn.model_selection import train_test_split\n",
        "from sklearn.metrics import confusion_matrix, classification_report\n",
        "from collections import defaultdict\n",
        "from textwrap import wrap\n",
        "\n",
        "from torch import nn, optim\n",
        "from torch.utils.data import Dataset, DataLoader\n",
        "import torch.nn.functional as F\n",
        "\n",
        "%matplotlib inline\n",
        "%config InlineBackend.figure_format='retina'\n",
        "\n",
        "sns.set(style='whitegrid', palette='muted', font_scale=1.2)\n",
        "\n",
        "HAPPY_COLORS_PALETTE = [\"#01BEFE\", \"#FFDD00\", \"#FF7D00\", \"#FF006D\", \"#ADFF02\", \"#8F00FF\"]\n",
        "\n",
        "sns.set_palette(sns.color_palette(HAPPY_COLORS_PALETTE))\n",
        "\n",
        "rcParams['figure.figsize'] = 12, 8\n",
        "\n",
        "RANDOM_SEED = 42\n",
        "np.random.seed(RANDOM_SEED)\n",
        "torch.manual_seed(RANDOM_SEED)\n",
        "\n",
        "device = torch.device(\"cuda:0\" if torch.cuda.is_available() else \"cpu\")\n",
        "device"
      ],
      "metadata": {
        "id": "aV6NTQHLP9A7"
      },
      "execution_count": null,
      "outputs": []
    },
    {
      "cell_type": "code",
      "source": [
        "%reload_ext watermark\n",
        "%watermark -v -p numpy,pandas,torch,transformers"
      ],
      "metadata": {
        "id": "UlnjNs4UQGHI"
      },
      "execution_count": null,
      "outputs": []
    },
    {
      "cell_type": "markdown",
      "source": [
        "# Dataset Loading"
      ],
      "metadata": {
        "id": "gaDc0mN-QJA_"
      }
    },
    {
      "cell_type": "code",
      "source": [
        "from google.colab import drive\n",
        "drive.mount('/content/gdrive')"
      ],
      "metadata": {
        "colab": {
          "base_uri": "https://localhost:8080/"
        },
        "id": "nzLM9i3cQYqk",
        "outputId": "c5ed376b-b99b-4eff-87f0-df3ac907e6c0"
      },
      "execution_count": 3,
      "outputs": [
        {
          "output_type": "stream",
          "name": "stdout",
          "text": [
            "Mounted at /content/gdrive\n"
          ]
        }
      ]
    },
    {
      "cell_type": "code",
      "source": [
        "df_train = pd.read_pickle('/content/gdrive/MyDrive/Major_Project/Marathi-Sentiment/Refined_Dataset/marathi_train.pkl')\n",
        "df_test = pd.read_pickle('/content/gdrive/MyDrive/Major_Project/Marathi-Sentiment/Refined_Dataset/marathi_test.pkl')\n",
        "df_valid = pd.read_pickle('/content/gdrive/MyDrive/Major_Project/Marathi-Sentiment/Refined_Dataset/marathi_valid.pkl')"
      ],
      "metadata": {
        "id": "zUSPe5MAQb6N"
      },
      "execution_count": 4,
      "outputs": []
    },
    {
      "cell_type": "markdown",
      "source": [
        "# Data analysis"
      ],
      "metadata": {
        "id": "6cPfl8pHQreT"
      }
    },
    {
      "cell_type": "code",
      "source": [
        "sns.countplot(df_train.label)\n",
        "plt.xlabel('Sentiment')"
      ],
      "metadata": {
        "colab": {
          "base_uri": "https://localhost:8080/",
          "height": 361
        },
        "id": "qxDwk1pgQ_j1",
        "outputId": "dc687edb-e3c4-4cb3-c735-db5779c87f2d"
      },
      "execution_count": 5,
      "outputs": [
        {
          "output_type": "stream",
          "name": "stderr",
          "text": [
            "/usr/local/lib/python3.7/dist-packages/seaborn/_decorators.py:43: FutureWarning: Pass the following variable as a keyword arg: x. From version 0.12, the only valid positional argument will be `data`, and passing other arguments without an explicit keyword will result in an error or misinterpretation.\n",
            "  FutureWarning\n"
          ]
        },
        {
          "output_type": "execute_result",
          "data": {
            "text/plain": [
              "Text(0.5, 0, 'Sentiment')"
            ]
          },
          "metadata": {},
          "execution_count": 5
        },
        {
          "output_type": "display_data",
          "data": {
            "text/plain": [
              "<Figure size 432x288 with 1 Axes>"
            ],
            "image/png": "[encoded data removed]"
          },
          "metadata": {
            "image/png": {
              "width": 410,
              "height": 272
            },
            "needs_background": "light"
          }
        }
      ]
    },
    {
      "cell_type": "code",
      "source": [
        "sns.countplot(df_test.label)\n",
        "plt.xlabel('Sentiment')"
      ],
      "metadata": {
        "colab": {
          "base_uri": "https://localhost:8080/",
          "height": 361
        },
        "id": "WNfwyyGiRCxK",
        "outputId": "0cebc906-9a81-4157-f8b2-e0fb139ab68a"
      },
      "execution_count": 6,
      "outputs": [
        {
          "output_type": "stream",
          "name": "stderr",
          "text": [
            "/usr/local/lib/python3.7/dist-packages/seaborn/_decorators.py:43: FutureWarning: Pass the following variable as a keyword arg: x. From version 0.12, the only valid positional argument will be `data`, and passing other arguments without an explicit keyword will result in an error or misinterpretation.\n",
            "  FutureWarning\n"
          ]
        },
        {
          "output_type": "execute_result",
          "data": {
            "text/plain": [
              "Text(0.5, 0, 'Sentiment')"
            ]
          },
          "metadata": {},
          "execution_count": 6
        },
        {
          "output_type": "display_data",
          "data": {
            "text/plain": [
              "<Figure size 432x288 with 1 Axes>"
            ],
            "image/png": "[encoded data removed]"
          },
          "metadata": {
            "image/png": {
              "width": 401,
              "height": 272
            },
            "needs_background": "light"
          }
        }
      ]
    },
    {
      "cell_type": "code",
      "source": [
        "sns.countplot(df_valid.label)\n",
        "plt.xlabel('Sentiment')"
      ],
      "metadata": {
        "colab": {
          "base_uri": "https://localhost:8080/",
          "height": 361
        },
        "id": "0wIRz7GKRDKf",
        "outputId": "f68e1e7f-9e38-44a8-c634-dc0b8b317081"
      },
      "execution_count": 7,
      "outputs": [
        {
          "output_type": "stream",
          "name": "stderr",
          "text": [
            "/usr/local/lib/python3.7/dist-packages/seaborn/_decorators.py:43: FutureWarning: Pass the following variable as a keyword arg: x. From version 0.12, the only valid positional argument will be `data`, and passing other arguments without an explicit keyword will result in an error or misinterpretation.\n",
            "  FutureWarning\n"
          ]
        },
        {
          "output_type": "execute_result",
          "data": {
            "text/plain": [
              "Text(0.5, 0, 'Sentiment')"
            ]
          },
          "metadata": {},
          "execution_count": 7
        },
        {
          "output_type": "display_data",
          "data": {
            "text/plain": [
              "<Figure size 432x288 with 1 Axes>"
            ],
            "image/png": "[encoded data removed]"
          },
          "metadata": {
            "image/png": {
              "width": 401,
              "height": 272
            },
            "needs_background": "light"
          }
        }
      ]
    },
    {
      "cell_type": "code",
      "source": [
        "pd.set_option(\"display.max_colwidth\", -1)\n",
        "df_train.head(10)"
      ],
      "metadata": {
        "colab": {
          "base_uri": "https://localhost:8080/",
          "height": 757
        },
        "id": "aSmHI1k8Z7Ji",
        "outputId": "d4fc005d-dc96-43d8-800d-bcc12ad383e0"
      },
      "execution_count": 8,
      "outputs": [
        {
          "output_type": "stream",
          "name": "stderr",
          "text": [
            "/usr/local/lib/python3.7/dist-packages/ipykernel_launcher.py:1: FutureWarning: Passing a negative integer is deprecated in version 1.0 and will not be supported in future version. Instead, use None to not limit the column width.\n",
            "  \"\"\"Entry point for launching an IPython kernel.\n"
          ]
        },
        {
          "output_type": "execute_result",
          "data": {
            "text/plain": [
              "                                                                                                                                                                                                                                                                                                                   tweet  \\\n",
              "0    ज्येष्ठ पत्रकार अनंत दीक्षित यांच्या निधनाचे वृत्त   दु:खद आहे. चार दशकं त्यांनी आपल्या परखड लेखणीने पत्रकारितेत अमूल्य योगदान दिले. दीक्षित यांच्या मार्गदर्शनाखाली पत्रकारांची पिढी घडली. अनंत दीक्षित यांना भावपूर्ण श्रद्धांजली! \\nआम्ही त्यांच्या परिवाराच्या दु:खात सहभागी आहोत. pic.twitter.com/s3gnQQLtpk\\n   \n",
              "1    सर्वोच्च न्यायालयाचे निर्देश डावलून पुणे पोलिसांनी प्रा. आनंद तेलतुंबडेंना अटक केली मात्र न्यायालयाने त्यांची अटक बेकायदेशीर ठरवून सरकारला जोरदार चपराक लगावली आहे. कायदा हातात घेणा-या पोलीस अधिका-यांवर तात्काळ कारवाई केली पाहिजे.\\n#AnandTeltumbde\\n                                                              \n",
              "2    उद्धव ठाकरेंनी भाजपासोबत युती करून शिवसैनिकांचा अवमान व विश्वासघात  केला आहे फसवणूक झालेल्या शिवसैनिकांबद्दल मला सहानुभूती असून स्वार्थासाठी उद्धव ठाकरे भाजपसोबत गेले तरी मोदींचे सरकार घालवण्यातच महाराष्ट्राचे हित आहे हे जाणणारे  शिवसैनिक मोदींच्या विरोधात काँग्रेसला मतदान  करतील\\n                            \n",
              "3    आपला समाज खूप मोठा आहे. त्यात अनेक घटक अंतर्भूत आहेत. यातील दिव्यांग हा एक घटक, जो शारीरिकदृष्ट्या कमकुवत आहे, त्याच्याकडे समाजाचे दुर्लक्ष होतेय. त्यामुळे सरकारने अशा व्यक्तींसाठी उपक्रम राबवून त्यांना समाजात सन्मानाने जगता येईल, याकडे लक्ष देण्याची गरज आहे. pic.twitter.com/g0tbJyyTPX\\n                      \n",
              "4  बलात्काराचा बदला बलात्काराने घेतला पाहिजे हे म्हणणारे सावरकर आम्हाला मान्य नाहीत. द्वेष आणि तिरस्कार हिंदू धर्मातही अभिप्रेत कधीच नव्हता. आम्ही सावरकरांच्या विचारांचा विरोध करताच राहू त्यात व्यक्तीद्वेष नाही तर वैचारिक विरोध आहे. हा देश गांधींच्या विचारांनीच चालेल!\\n                                             \n",
              "5    जरी मी देशाच्या सेवेत मृत्यू पावली तरी मला त्याचा अभिमान वाटेल..माझ्या रक्ताचे प्रत्येक थेंब या राष्ट्राच्या विकासास हातभार लावेल आणि ते मजबूत व गतिमान बनवेल-श्रीमती इंदिरा गांधी\\n\\nस्वतंत्र भारताच्या पहिल्या महिला पंतप्रधान इंदिरा गांधी यांना विनम्र अभिवादन !\\n#IndiraGandhi pic.twitter.com/JDZ3mDqBeO\\n      \n",
              "6    आज, बारामती शहर परिसरात सुरु असणाऱ्या विविध विकास कामांना प्रत्यक्ष भेटी देत कामाचा आढावा घेतला. शहरासह तालुक्यातील कायदा-सुव्यवस्था सुरळीत राखण्यासाठी अवैध व्यवसाय करणाऱ्यांवर कडक कारवाई करण्याचे निर्देश दिले. pic.twitter.com/WJCsuaQ52M\\n                                                                       \n",
              "7   @INCMaharashtra च्या माजी अध्यक्ष स्व. प्रभाताई राव यांना जयंतीनिमित्त विनम्र अभिवादन! pic.twitter.com/Ztvgy1nvxt\\n                                                                                                                                                                                                    \n",
              "8    पालखी सोहळ्यात अपघात झाल्याची बातमी दुःखद आहे.या रस्त्याचे चौपदरीकरण रखडले आहे. @nitin_gadkari जी, महाराष्ट्राच्या भावविश्वात पालखी सोहळ्याला मोठे महत्त्व आहे.या सोहळ्यात अपघात घडणे खेदजनक आहे.कृपया आपण वैयक्तिक लक्ष घालून पालखी मार्गाचे काम पुर्ण करण्याचे आदेश द्यावेत,ही विनंती\\n                             \n",
              "9    आगामी निवडणुकांच्या पार्श्वभूमीवर आज म्हसळा तालुक्यातील कार्यकर्त्यांशी संवाद साधला व त्यांना मार्गदर्शन केले.\\n\\n#Mhasala #Raigad #maharashtra #assemblyelection2019 pic.twitter.com/ptNKKbwHPG\\n                                                                                                                    \n",
              "\n",
              "   label  \\\n",
              "0 -1       \n",
              "1 -1       \n",
              "2 -1       \n",
              "3  1       \n",
              "4 -1       \n",
              "5  1       \n",
              "6  1       \n",
              "7  1       \n",
              "8 -1       \n",
              "9  0       \n",
              "\n",
              "                                                                                                                                                                                                                                                                             tuned_tweet  \n",
              "0  ज्येष्ठ पत्रकार अनंत दीक्षित यांच्या निधनाचे वृत्त दु:खद आहे चार दशकं त्यांनी आपल्या परखड लेखणीने पत्रकारितेत अमूल्य योगदान दिले दीक्षित यांच्या मार्गदर्शनाखाली पत्रकारांची पिढी घडली अनंत दीक्षित यांना भावपूर्ण श्रद्धांजली आम्ही त्यांच्या परिवाराच्या दु:खात सहभागी आहोत          \n",
              "1  सर्वोच्च न्यायालयाचे निर्देश डावलून पुणे पोलिसांनी प्रा आनंद तेलतुंबडेंना अटक केली मात्र न्यायालयाने त्यांची अटक बेकायदेशीर ठरवून सरकारला जोरदार चपराक लगावली आहे कायदा हातात घेणा-या पोलीस अधिका-यांवर तात्काळ कारवाई केली पाहिजे AnandTeltumbde                                      \n",
              "2  उद्धव ठाकरेंनी भाजपासोबत युती करून शिवसैनिकांचा अवमान व विश्वासघात केला आहे फसवणूक झालेल्या शिवसैनिकांबद्दल मला सहानुभूती असून स्वार्थासाठी उद्धव ठाकरे भाजपसोबत गेले तरी मोदींचे सरकार घालवण्यातच महाराष्ट्राचे हित आहे हे जाणणारे शिवसैनिक मोदींच्या विरोधात काँग्रेसला मतदान करतील  \n",
              "3  आपला समाज खूप मोठा आहे त्यात अनेक घटक अंतर्भूत आहेत यातील दिव्यांग हा एक घटक, जो शारीरिकदृष्ट्या कमकुवत आहे, त्याच्याकडे समाजाचे दुर्लक्ष होतेय त्यामुळे सरकारने अशा व्यक्तींसाठी उपक्रम राबवून त्यांना समाजात सन्मानाने जगता येईल, याकडे लक्ष देण्याची गरज आहे                        \n",
              "4  बलात्काराचा बदला बलात्काराने घेतला पाहिजे हे म्हणणारे सावरकर आम्हाला मान्य नाहीत द्वेष आणि तिरस्कार हिंदू धर्मातही अभिप्रेत कधीच नव्हता आम्ही सावरकरांच्या विचारांचा विरोध करताच राहू त्यात व्यक्तीद्वेष नाही तर वैचारिक विरोध आहे हा देश गांधींच्या विचारांनीच चालेल                  \n",
              "5  जरी मी देशाच्या सेवेत मृत्यू पावली तरी मला त्याचा अभिमान वाटेल माझ्या रक्ताचे प्रत्येक थेंब या राष्ट्राच्या विकासास हातभार लावेल आणि ते मजबूत व गतिमान बनवेल-श्रीमती इंदिरा गांधी स्वतंत्र भारताच्या पहिल्या महिला पंतप्रधान इंदिरा गांधी यांना विनम्र अभिवादन IndiraGandhi            \n",
              "6  आज, बारामती शहर परिसरात सुरु असणाऱ्या विविध विकास कामांना प्रत्यक्ष भेटी देत कामाचा आढावा घेतला शहरासह तालुक्यातील कायदा-सुव्यवस्था सुरळीत राखण्यासाठी अवैध व्यवसाय करणाऱ्यांवर कडक कारवाई करण्याचे निर्देश दिले                                                                       \n",
              "7  च्या माजी अध्यक्ष स्व प्रभाताई राव यांना जयंतीनिमित्त विनम्र अभिवादन                                                                                                                                                                                                                   \n",
              "8  पालखी सोहळ्यात अपघात झाल्याची बातमी दुःखद आहे या रस्त्याचे चौपदरीकरण रखडले आहे जी, महाराष्ट्राच्या भावविश्वात पालखी सोहळ्याला मोठे महत्त्व आहे या सोहळ्यात अपघात घडणे खेदजनक आहे कृपया आपण वैयक्तिक लक्ष घालून पालखी मार्गाचे काम पुर्ण करण्याचे आदेश द्यावेत,ही विनंती                \n",
              "9  आगामी निवडणुकांच्या पार्श्वभूमीवर आज म्हसळा तालुक्यातील कार्यकर्त्यांशी संवाद साधला व त्यांना मार्गदर्शन केले Mhasala Raigad maharashtra assemblyelection2019                                                                                                                          "
            ],
            "text/html": [
              "\n",
              "  <div id=\"df-13d6ff18-a9e2-4dfb-97c9-74fe881293c2\">\n",
              "    <div class=\"colab-df-container\">\n",
              "      <div>\n",
              "<style scoped>\n",
              "    .dataframe tbody tr th:only-of-type {\n",
              "        vertical-align: middle;\n",
              "    }\n",
              "\n",
              "    .dataframe tbody tr th {\n",
              "        vertical-align: top;\n",
              "    }\n",
              "\n",
              "    .dataframe thead th {\n",
              "        text-align: right;\n",
              "    }\n",
              "</style>\n",
              "<table border=\"1\" class=\"dataframe\">\n",
              "  <thead>\n",
              "    <tr style=\"text-align: right;\">\n",
              "      <th></th>\n",
              "      <th>tweet</th>\n",
              "      <th>label</th>\n",
              "      <th>tuned_tweet</th>\n",
              "    </tr>\n",
              "  </thead>\n",
              "  <tbody>\n",
              "    <tr>\n",
              "      <th>0</th>\n",
              "      <td>ज्येष्ठ पत्रकार अनंत दीक्षित यांच्या निधनाचे वृत्त   दु:खद आहे. चार दशकं त्यांनी आपल्या परखड लेखणीने पत्रकारितेत अमूल्य योगदान दिले. दीक्षित यांच्या मार्गदर्शनाखाली पत्रकारांची पिढी घडली. अनंत दीक्षित यांना भावपूर्ण श्रद्धांजली! \\nआम्ही त्यांच्या परिवाराच्या दु:खात सहभागी आहोत. pic.twitter.com/s3gnQQLtpk\\n</td>\n",
              "      <td>-1</td>\n",
              "      <td>ज्येष्ठ पत्रकार अनंत दीक्षित यांच्या निधनाचे वृत्त दु:खद आहे चार दशकं त्यांनी आपल्या परखड लेखणीने पत्रकारितेत अमूल्य योगदान दिले दीक्षित यांच्या मार्गदर्शनाखाली पत्रकारांची पिढी घडली अनंत दीक्षित यांना भावपूर्ण श्रद्धांजली आम्ही त्यांच्या परिवाराच्या दु:खात सहभागी आहोत</td>\n",
              "    </tr>\n",
              "    <tr>\n",
              "      <th>1</th>\n",
              "      <td>सर्वोच्च न्यायालयाचे निर्देश डावलून पुणे पोलिसांनी प्रा. आनंद तेलतुंबडेंना अटक केली मात्र न्यायालयाने त्यांची अटक बेकायदेशीर ठरवून सरकारला जोरदार चपराक लगावली आहे. कायदा हातात घेणा-या पोलीस अधिका-यांवर तात्काळ कारवाई केली पाहिजे.\\n#AnandTeltumbde\\n</td>\n",
              "      <td>-1</td>\n",
              "      <td>सर्वोच्च न्यायालयाचे निर्देश डावलून पुणे पोलिसांनी प्रा आनंद तेलतुंबडेंना अटक केली मात्र न्यायालयाने त्यांची अटक बेकायदेशीर ठरवून सरकारला जोरदार चपराक लगावली आहे कायदा हातात घेणा-या पोलीस अधिका-यांवर तात्काळ कारवाई केली पाहिजे AnandTeltumbde</td>\n",
              "    </tr>\n",
              "    <tr>\n",
              "      <th>2</th>\n",
              "      <td>उद्धव ठाकरेंनी भाजपासोबत युती करून शिवसैनिकांचा अवमान व विश्वासघात  केला आहे फसवणूक झालेल्या शिवसैनिकांबद्दल मला सहानुभूती असून स्वार्थासाठी उद्धव ठाकरे भाजपसोबत गेले तरी मोदींचे सरकार घालवण्यातच महाराष्ट्राचे हित आहे हे जाणणारे  शिवसैनिक मोदींच्या विरोधात काँग्रेसला मतदान  करतील\\n</td>\n",
              "      <td>-1</td>\n",
              "      <td>उद्धव ठाकरेंनी भाजपासोबत युती करून शिवसैनिकांचा अवमान व विश्वासघात केला आहे फसवणूक झालेल्या शिवसैनिकांबद्दल मला सहानुभूती असून स्वार्थासाठी उद्धव ठाकरे भाजपसोबत गेले तरी मोदींचे सरकार घालवण्यातच महाराष्ट्राचे हित आहे हे जाणणारे शिवसैनिक मोदींच्या विरोधात काँग्रेसला मतदान करतील</td>\n",
              "    </tr>\n",
              "    <tr>\n",
              "      <th>3</th>\n",
              "      <td>आपला समाज खूप मोठा आहे. त्यात अनेक घटक अंतर्भूत आहेत. यातील दिव्यांग हा एक घटक, जो शारीरिकदृष्ट्या कमकुवत आहे, त्याच्याकडे समाजाचे दुर्लक्ष होतेय. त्यामुळे सरकारने अशा व्यक्तींसाठी उपक्रम राबवून त्यांना समाजात सन्मानाने जगता येईल, याकडे लक्ष देण्याची गरज आहे. pic.twitter.com/g0tbJyyTPX\\n</td>\n",
              "      <td>1</td>\n",
              "      <td>आपला समाज खूप मोठा आहे त्यात अनेक घटक अंतर्भूत आहेत यातील दिव्यांग हा एक घटक, जो शारीरिकदृष्ट्या कमकुवत आहे, त्याच्याकडे समाजाचे दुर्लक्ष होतेय त्यामुळे सरकारने अशा व्यक्तींसाठी उपक्रम राबवून त्यांना समाजात सन्मानाने जगता येईल, याकडे लक्ष देण्याची गरज आहे</td>\n",
              "    </tr>\n",
              "    <tr>\n",
              "      <th>4</th>\n",
              "      <td>बलात्काराचा बदला बलात्काराने घेतला पाहिजे हे म्हणणारे सावरकर आम्हाला मान्य नाहीत. द्वेष आणि तिरस्कार हिंदू धर्मातही अभिप्रेत कधीच नव्हता. आम्ही सावरकरांच्या विचारांचा विरोध करताच राहू त्यात व्यक्तीद्वेष नाही तर वैचारिक विरोध आहे. हा देश गांधींच्या विचारांनीच चालेल!\\n</td>\n",
              "      <td>-1</td>\n",
              "      <td>बलात्काराचा बदला बलात्काराने घेतला पाहिजे हे म्हणणारे सावरकर आम्हाला मान्य नाहीत द्वेष आणि तिरस्कार हिंदू धर्मातही अभिप्रेत कधीच नव्हता आम्ही सावरकरांच्या विचारांचा विरोध करताच राहू त्यात व्यक्तीद्वेष नाही तर वैचारिक विरोध आहे हा देश गांधींच्या विचारांनीच चालेल</td>\n",
              "    </tr>\n",
              "    <tr>\n",
              "      <th>5</th>\n",
              "      <td>जरी मी देशाच्या सेवेत मृत्यू पावली तरी मला त्याचा अभिमान वाटेल..माझ्या रक्ताचे प्रत्येक थेंब या राष्ट्राच्या विकासास हातभार लावेल आणि ते मजबूत व गतिमान बनवेल-श्रीमती इंदिरा गांधी\\n\\nस्वतंत्र भारताच्या पहिल्या महिला पंतप्रधान इंदिरा गांधी यांना विनम्र अभिवादन !\\n#IndiraGandhi pic.twitter.com/JDZ3mDqBeO\\n</td>\n",
              "      <td>1</td>\n",
              "      <td>जरी मी देशाच्या सेवेत मृत्यू पावली तरी मला त्याचा अभिमान वाटेल माझ्या रक्ताचे प्रत्येक थेंब या राष्ट्राच्या विकासास हातभार लावेल आणि ते मजबूत व गतिमान बनवेल-श्रीमती इंदिरा गांधी स्वतंत्र भारताच्या पहिल्या महिला पंतप्रधान इंदिरा गांधी यांना विनम्र अभिवादन IndiraGandhi</td>\n",
              "    </tr>\n",
              "    <tr>\n",
              "      <th>6</th>\n",
              "      <td>आज, बारामती शहर परिसरात सुरु असणाऱ्या विविध विकास कामांना प्रत्यक्ष भेटी देत कामाचा आढावा घेतला. शहरासह तालुक्यातील कायदा-सुव्यवस्था सुरळीत राखण्यासाठी अवैध व्यवसाय करणाऱ्यांवर कडक कारवाई करण्याचे निर्देश दिले. pic.twitter.com/WJCsuaQ52M\\n</td>\n",
              "      <td>1</td>\n",
              "      <td>आज, बारामती शहर परिसरात सुरु असणाऱ्या विविध विकास कामांना प्रत्यक्ष भेटी देत कामाचा आढावा घेतला शहरासह तालुक्यातील कायदा-सुव्यवस्था सुरळीत राखण्यासाठी अवैध व्यवसाय करणाऱ्यांवर कडक कारवाई करण्याचे निर्देश दिले</td>\n",
              "    </tr>\n",
              "    <tr>\n",
              "      <th>7</th>\n",
              "      <td>@INCMaharashtra च्या माजी अध्यक्ष स्व. प्रभाताई राव यांना जयंतीनिमित्त विनम्र अभिवादन! pic.twitter.com/Ztvgy1nvxt\\n</td>\n",
              "      <td>1</td>\n",
              "      <td>च्या माजी अध्यक्ष स्व प्रभाताई राव यांना जयंतीनिमित्त विनम्र अभिवादन</td>\n",
              "    </tr>\n",
              "    <tr>\n",
              "      <th>8</th>\n",
              "      <td>पालखी सोहळ्यात अपघात झाल्याची बातमी दुःखद आहे.या रस्त्याचे चौपदरीकरण रखडले आहे. @nitin_gadkari जी, महाराष्ट्राच्या भावविश्वात पालखी सोहळ्याला मोठे महत्त्व आहे.या सोहळ्यात अपघात घडणे खेदजनक आहे.कृपया आपण वैयक्तिक लक्ष घालून पालखी मार्गाचे काम पुर्ण करण्याचे आदेश द्यावेत,ही विनंती\\n</td>\n",
              "      <td>-1</td>\n",
              "      <td>पालखी सोहळ्यात अपघात झाल्याची बातमी दुःखद आहे या रस्त्याचे चौपदरीकरण रखडले आहे जी, महाराष्ट्राच्या भावविश्वात पालखी सोहळ्याला मोठे महत्त्व आहे या सोहळ्यात अपघात घडणे खेदजनक आहे कृपया आपण वैयक्तिक लक्ष घालून पालखी मार्गाचे काम पुर्ण करण्याचे आदेश द्यावेत,ही विनंती</td>\n",
              "    </tr>\n",
              "    <tr>\n",
              "      <th>9</th>\n",
              "      <td>आगामी निवडणुकांच्या पार्श्वभूमीवर आज म्हसळा तालुक्यातील कार्यकर्त्यांशी संवाद साधला व त्यांना मार्गदर्शन केले.\\n\\n#Mhasala #Raigad #maharashtra #assemblyelection2019 pic.twitter.com/ptNKKbwHPG\\n</td>\n",
              "      <td>0</td>\n",
              "      <td>आगामी निवडणुकांच्या पार्श्वभूमीवर आज म्हसळा तालुक्यातील कार्यकर्त्यांशी संवाद साधला व त्यांना मार्गदर्शन केले Mhasala Raigad maharashtra assemblyelection2019</td>\n",
              "    </tr>\n",
              "  </tbody>\n",
              "</table>\n",
              "</div>\n",
              "      <button class=\"colab-df-convert\" onclick=\"convertToInteractive('df-13d6ff18-a9e2-4dfb-97c9-74fe881293c2')\"\n",
              "              title=\"Convert this dataframe to an interactive table.\"\n",
              "              style=\"display:none;\">\n",
              "        \n",
              "  <svg xmlns=\"http://www.w3.org/2000/svg\" height=\"24px\"viewBox=\"0 0 24 24\"\n",
              "       width=\"24px\">\n",
              "    <path d=\"M0 0h24v24H0V0z\" fill=\"none\"/>\n",
              "    <path d=\"M18.56 5.44l.94 2.06.94-2.06 2.06-.94-2.06-.94-.94-2.06-.94 2.06-2.06.94zm-11 1L8.5 8.5l.94-2.06 2.06-.94-2.06-.94L8.5 2.5l-.94 2.06-2.06.94zm10 10l.94 2.06.94-2.06 2.06-.94-2.06-.94-.94-2.06-.94 2.06-2.06.94z\"/><path d=\"M17.41 7.96l-1.37-1.37c-.4-.4-.92-.59-1.43-.59-.52 0-1.04.2-1.43.59L10.3 9.45l-7.72 7.72c-.78.78-.78 2.05 0 2.83L4 21.41c.39.39.9.59 1.41.59.51 0 1.02-.2 1.41-.59l7.78-7.78 2.81-2.81c.8-.78.8-2.07 0-2.86zM5.41 20L4 18.59l7.72-7.72 1.47 1.35L5.41 20z\"/>\n",
              "  </svg>\n",
              "      </button>\n",
              "      \n",
              "  <style>\n",
              "    .colab-df-container {\n",
              "      display:flex;\n",
              "      flex-wrap:wrap;\n",
              "      gap: 12px;\n",
              "    }\n",
              "\n",
              "    .colab-df-convert {\n",
              "      background-color: #E8F0FE;\n",
              "      border: none;\n",
              "      border-radius: 50%;\n",
              "      cursor: pointer;\n",
              "      display: none;\n",
              "      fill: #1967D2;\n",
              "      height: 32px;\n",
              "      padding: 0 0 0 0;\n",
              "      width: 32px;\n",
              "    }\n",
              "\n",
              "    .colab-df-convert:hover {\n",
              "      background-color: #E2EBFA;\n",
              "      box-shadow: 0px 1px 2px rgba(60, 64, 67, 0.3), 0px 1px 3px 1px rgba(60, 64, 67, 0.15);\n",
              "      fill: #174EA6;\n",
              "    }\n",
              "\n",
              "    [theme=dark] .colab-df-convert {\n",
              "      background-color: #3B4455;\n",
              "      fill: #D2E3FC;\n",
              "    }\n",
              "\n",
              "    [theme=dark] .colab-df-convert:hover {\n",
              "      background-color: #434B5C;\n",
              "      box-shadow: 0px 1px 3px 1px rgba(0, 0, 0, 0.15);\n",
              "      filter: drop-shadow(0px 1px 2px rgba(0, 0, 0, 0.3));\n",
              "      fill: #FFFFFF;\n",
              "    }\n",
              "  </style>\n",
              "\n",
              "      <script>\n",
              "        const buttonEl =\n",
              "          document.querySelector('#df-13d6ff18-a9e2-4dfb-97c9-74fe881293c2 button.colab-df-convert');\n",
              "        buttonEl.style.display =\n",
              "          google.colab.kernel.accessAllowed ? 'block' : 'none';\n",
              "\n",
              "        async function convertToInteractive(key) {\n",
              "          const element = document.querySelector('#df-13d6ff18-a9e2-4dfb-97c9-74fe881293c2');\n",
              "          const dataTable =\n",
              "            await google.colab.kernel.invokeFunction('convertToInteractive',\n",
              "                                                     [key], {});\n",
              "          if (!dataTable) return;\n",
              "\n",
              "          const docLinkHtml = 'Like what you see? Visit the ' +\n",
              "            '<a target=\"_blank\" href=https://colab.research.google.com/notebooks/data_table.ipynb>data table notebook</a>'\n",
              "            + ' to learn more about interactive tables.';\n",
              "          element.innerHTML = '';\n",
              "          dataTable['output_type'] = 'display_data';\n",
              "          await google.colab.output.renderOutput(dataTable, element);\n",
              "          const docLink = document.createElement('div');\n",
              "          docLink.innerHTML = docLinkHtml;\n",
              "          element.appendChild(docLink);\n",
              "        }\n",
              "      </script>\n",
              "    </div>\n",
              "  </div>\n",
              "  "
            ]
          },
          "metadata": {},
          "execution_count": 8
        }
      ]
    },
    {
      "cell_type": "markdown",
      "source": [
        "# Preprocessing with transformers"
      ],
      "metadata": {
        "id": "MiCJrhH8RObG"
      }
    },
    {
      "cell_type": "code",
      "source": [
        "PRE_TRAINED_MODEL_NAME = 'google/muril-base-cased'"
      ],
      "metadata": {
        "id": "WGCtLbViSGC3"
      },
      "execution_count": null,
      "outputs": []
    },
    {
      "cell_type": "code",
      "source": [
        "muril_model = AutoModel.from_pretrained(PRE_TRAINED_MODEL_NAME)\n",
        "tokenizer = AutoTokenizer.from_pretrained(PRE_TRAINED_MODEL_NAME)"
      ],
      "metadata": {
        "id": "-1-0FchCSoAh"
      },
      "execution_count": null,
      "outputs": []
    },
    {
      "cell_type": "code",
      "source": [
        "sample_txt = 'मेरी आणि सामंथा बस स्थानकावर लवकर पोहोचल्या पण दुपारपर्यंत बसची वाट पाहत बसले'"
      ],
      "metadata": {
        "id": "DSG3e5IOSqQS"
      },
      "execution_count": null,
      "outputs": []
    },
    {
      "cell_type": "code",
      "source": [
        "\n",
        "\n",
        "tokens = tokenizer.tokenize(sample_txt)\n",
        "token_ids = tokenizer.convert_tokens_to_ids(tokens)\n",
        "\n",
        "print(f' Sentence: {sample_txt}')\n",
        "print(f'   Tokens: {tokens}')\n",
        "print(f'Token IDs: {token_ids}')\n",
        "\n"
      ],
      "metadata": {
        "id": "v-XPV5KJSrud"
      },
      "execution_count": null,
      "outputs": []
    },
    {
      "cell_type": "code",
      "source": [
        "print(tokenizer.sep_token, tokenizer.sep_token_id)\n",
        "print(tokenizer.cls_token, tokenizer.cls_token_id)\n",
        "print(tokenizer.pad_token, tokenizer.pad_token_id)\n",
        "print(tokenizer.unk_token, tokenizer.unk_token_id)"
      ],
      "metadata": {
        "id": "bz7lIAYmStFW"
      },
      "execution_count": null,
      "outputs": []
    },
    {
      "cell_type": "code",
      "source": [
        "\n",
        "\n",
        "encoding = tokenizer.encode_plus(\n",
        "  sample_txt,\n",
        "  max_length=32, # Max no. of tokens \n",
        "  add_special_tokens=True, # Add '[CLS]' and '[SEP]'\n",
        "  return_token_type_ids=True,\n",
        "  pad_to_max_length=True,\n",
        "  return_attention_mask=True,\n",
        "  return_tensors='pt',  # Return PyTorch tensors\n",
        ")\n",
        "\n",
        "encoding.keys()\n",
        "\n"
      ],
      "metadata": {
        "id": "UZbOPMb8S0pe"
      },
      "execution_count": null,
      "outputs": []
    },
    {
      "cell_type": "code",
      "source": [
        "print(len(encoding['input_ids'][0]))\n",
        "encoding['input_ids']"
      ],
      "metadata": {
        "id": "Qg7ggFc1S2NK"
      },
      "execution_count": null,
      "outputs": []
    },
    {
      "cell_type": "code",
      "source": [
        "print(len(encoding['token_type_ids'][0]))\n",
        "encoding['token_type_ids']"
      ],
      "metadata": {
        "id": "ERedciK3S8a0"
      },
      "execution_count": null,
      "outputs": []
    },
    {
      "cell_type": "code",
      "source": [
        "print(len(encoding['attention_mask'][0]))\n",
        "encoding['attention_mask']"
      ],
      "metadata": {
        "id": "71aO4e5uS-Um"
      },
      "execution_count": null,
      "outputs": []
    },
    {
      "cell_type": "code",
      "source": [
        "tokenizer.convert_ids_to_tokens(encoding['input_ids'][0])"
      ],
      "metadata": {
        "id": "LIH_xNWhS_Jg"
      },
      "execution_count": null,
      "outputs": []
    },
    {
      "cell_type": "code",
      "source": [
        "token_lens = []\n",
        "for txt in tqdm(df_train.tuned_tweet):\n",
        "  tokens = tokenizer.encode(txt, max_length=512)\n",
        "  token_lens.append(len(tokens))"
      ],
      "metadata": {
        "colab": {
          "base_uri": "https://localhost:8080/"
        },
        "id": "y6ezNEkWTA9W",
        "outputId": "2d715174-5d8c-44fe-b6d6-9fa6d246fd36"
      },
      "execution_count": null,
      "outputs": [
        {
          "output_type": "stream",
          "name": "stderr",
          "text": [
            "100%|██████████| 12109/12109 [00:07<00:00, 1700.61it/s]\n"
          ]
        }
      ]
    },
    {
      "cell_type": "code",
      "source": [
        "sns.distplot(token_lens)\n",
        "plt.xlim([0, 256]);\n",
        "plt.xlabel('Token count');\n",
        "plt.show()"
      ],
      "metadata": {
        "colab": {
          "base_uri": "https://localhost:8080/"
        },
        "id": "cb0h1WmTTmtZ",
        "outputId": "36110202-52a5-40fe-97ce-30ade877c60c"
      },
      "execution_count": null,
      "outputs": [
        {
          "output_type": "stream",
          "name": "stderr",
          "text": [
            "/usr/local/lib/python3.7/dist-packages/seaborn/distributions.py:2619: FutureWarning: `distplot` is a deprecated function and will be removed in a future version. Please adapt your code to use either `displot` (a figure-level function with similar flexibility) or `histplot` (an axes-level function for histograms).\n",
            "  warnings.warn(msg, FutureWarning)\n"
          ]
        },
        {
          "output_type": "display_data",
          "data": {
            "text/plain": [
              "<Figure size 432x288 with 1 Axes>"
            ],
            "image/png": "[encoded data removed]"
          },
          "metadata": {
            "image/png": {
              "width": 419,
              "height": 272
            },
            "needs_background": "light"
          }
        }
      ]
    },
    {
      "cell_type": "code",
      "source": [
        "MAX_LEN = 160"
      ],
      "metadata": {
        "id": "arGFeZvZT7ao"
      },
      "execution_count": null,
      "outputs": []
    },
    {
      "cell_type": "code",
      "source": [
        "class GPReviewDataset(Dataset):\n",
        "\n",
        "  def __init__(self, text, targets, tokenizer, max_len):\n",
        "    self.text = text\n",
        "    self.targets = targets\n",
        "    self.tokenizer = tokenizer\n",
        "    self.max_len = max_len\n",
        "  \n",
        "  def __len__(self):\n",
        "    return len(self.text)\n",
        "  \n",
        "  def __getitem__(self, item):\n",
        "    text = str(self.text[item])\n",
        "    target = self.targets[item]\n",
        "\n",
        "    encoding = self.tokenizer.encode_plus(\n",
        "      text,\n",
        "      add_special_tokens=True,\n",
        "      max_length=self.max_len,\n",
        "      return_token_type_ids=True,\n",
        "      return_attention_mask=True,\n",
        "      padding= 'max_length',\n",
        "      # pad_to_max_length = True,\n",
        "      return_tensors='pt',\n",
        "    )\n",
        "\n",
        "    return {\n",
        "      'tweet_text': text,\n",
        "      'input_ids': encoding['input_ids'].flatten(),\n",
        "      'attention_mask': encoding['attention_mask'].flatten(),\n",
        "      'type_ids': encoding['token_type_ids'].flatten(),\n",
        "      'targets': torch.tensor(target, dtype=torch.long)\n",
        "    }"
      ],
      "metadata": {
        "id": "xy5-ExfZUDyj"
      },
      "execution_count": null,
      "outputs": []
    },
    {
      "cell_type": "code",
      "source": [
        "df_train.shape, df_valid.shape, df_test.shape"
      ],
      "metadata": {
        "colab": {
          "base_uri": "https://localhost:8080/"
        },
        "id": "_Ryi4gp5UFF2",
        "outputId": "1251aae6-dd69-4b4c-f545-18aa1f3a2da5"
      },
      "execution_count": null,
      "outputs": [
        {
          "output_type": "execute_result",
          "data": {
            "text/plain": [
              "((12109, 3), (1499, 3), (2250, 3))"
            ]
          },
          "metadata": {},
          "execution_count": 23
        }
      ]
    },
    {
      "cell_type": "code",
      "source": [
        "def create_data_loader(df, tokenizer, max_len, batch_size):\n",
        "  ds = GPReviewDataset(\n",
        "    text=df.tuned_tweet.to_numpy(),\n",
        "    targets=df.label.to_numpy(),\n",
        "    tokenizer=tokenizer,\n",
        "    max_len=max_len\n",
        "  )\n",
        "\n",
        "  return DataLoader(\n",
        "    ds,\n",
        "    batch_size=batch_size,\n",
        "    num_workers=2\n",
        "  )"
      ],
      "metadata": {
        "id": "CfQBBL3xUIpx"
      },
      "execution_count": null,
      "outputs": []
    },
    {
      "cell_type": "code",
      "source": [
        "BATCH_SIZE = 16\n",
        "\n",
        "train_data_loader = create_data_loader(df_train, tokenizer, MAX_LEN, BATCH_SIZE)\n",
        "val_data_loader = create_data_loader(df_valid, tokenizer, MAX_LEN, BATCH_SIZE)\n",
        "test_data_loader = create_data_loader(df_test, tokenizer, MAX_LEN, BATCH_SIZE)\n"
      ],
      "metadata": {
        "id": "4D70nKptUKto"
      },
      "execution_count": null,
      "outputs": []
    },
    {
      "cell_type": "code",
      "source": [
        "data = next(iter(train_data_loader))\n",
        "data.keys()"
      ],
      "metadata": {
        "colab": {
          "base_uri": "https://localhost:8080/"
        },
        "id": "nkt-MX8HUPzE",
        "outputId": "d207eeda-6b2e-4a14-b566-891ff13f4d0c"
      },
      "execution_count": null,
      "outputs": [
        {
          "output_type": "execute_result",
          "data": {
            "text/plain": [
              "dict_keys(['tweet_text', 'input_ids', 'attention_mask', 'type_ids', 'targets'])"
            ]
          },
          "metadata": {},
          "execution_count": 26
        }
      ]
    },
    {
      "cell_type": "code",
      "source": [
        "print(data['input_ids'].shape)\n",
        "print(data['attention_mask'].shape)\n",
        "print(data['targets'].shape)"
      ],
      "metadata": {
        "colab": {
          "base_uri": "https://localhost:8080/"
        },
        "id": "OodIlW5VUaJF",
        "outputId": "57dd1361-2bbb-46b9-8690-635475b17e88"
      },
      "execution_count": null,
      "outputs": [
        {
          "output_type": "stream",
          "name": "stdout",
          "text": [
            "torch.Size([16, 160])\n",
            "torch.Size([16, 160])\n",
            "torch.Size([16])\n"
          ]
        }
      ]
    },
    {
      "cell_type": "markdown",
      "source": [
        "# Classification"
      ],
      "metadata": {
        "id": "FHUsLaOaUdko"
      }
    },
    {
      "cell_type": "code",
      "source": [
        "print(encoding['attention_mask'] , encoding['token_type_ids'])"
      ],
      "metadata": {
        "id": "HAMUHya8Ugk0"
      },
      "execution_count": null,
      "outputs": []
    },
    {
      "cell_type": "code",
      "source": [
        "x = muril_model(\n",
        "  input_ids=encoding['input_ids'], \n",
        "  attention_mask=encoding['attention_mask'],\n",
        "  token_type_ids=encoding['token_type_ids']\n",
        ")"
      ],
      "metadata": {
        "id": "aQ9B9m3PUqaw"
      },
      "execution_count": null,
      "outputs": []
    },
    {
      "cell_type": "code",
      "source": [
        "print(x['last_hidden_state'].shape, x['pooler_output'].shape)"
      ],
      "metadata": {
        "id": "smRnivzjUtlq"
      },
      "execution_count": null,
      "outputs": []
    },
    {
      "cell_type": "code",
      "source": [
        "muril_model.config.hidden_size"
      ],
      "metadata": {
        "id": "ZGepiN8AUvP2"
      },
      "execution_count": null,
      "outputs": []
    },
    {
      "cell_type": "code",
      "source": [
        "\n",
        "class SentimentClassifier(nn.Module):\n",
        "\n",
        "  def __init__(self, n_classes, base):\n",
        "    super(SentimentClassifier, self).__init__()\n",
        "    self.muril = base\n",
        "    self.drop1 = nn.Dropout(p=0.3)\n",
        "    self.lstm = nn.LSTM(base.config.hidden_size, 150,bidirectional=True,dropout=0.2)\n",
        "    self.out1 = nn.Linear(300,64)\n",
        "    self.relu = nn.ReLU()\n",
        "    self.drop2 = nn.Dropout(p=0.1) \n",
        "    self.out = nn.Linear(64, n_classes)\n",
        "  \n",
        "  def forward(self, input_ids, attention_mask, token_type_ids):\n",
        "    x = self.muril(\n",
        "      input_ids=input_ids,\n",
        "      attention_mask=attention_mask,\n",
        "      token_type_ids=token_type_ids\n",
        "    )\n",
        "    pooled_output = x['pooler_output']\n",
        "    output = self.drop1(pooled_output)\n",
        "    output = output.view(len(output), 1, -1)\n",
        "    output, _ = self.lstm(output)\n",
        "    output = output.view(len(output), output.shape[-1])\n",
        "    output =self.relu(self.out1(output))\n",
        "    output = self.drop2(output)\n",
        "    return self.out(output)"
      ],
      "metadata": {
        "id": "mtaUQJiKUwn7"
      },
      "execution_count": null,
      "outputs": []
    },
    {
      "cell_type": "code",
      "source": [
        "\n",
        "class_names = ['-1','0', '1']\n",
        "model = SentimentClassifier(len(class_names), muril_model)\n",
        "model = model.to(device)"
      ],
      "metadata": {
        "id": "r79z4AhLU2YC"
      },
      "execution_count": null,
      "outputs": []
    },
    {
      "cell_type": "code",
      "source": [
        "data.keys()"
      ],
      "metadata": {
        "colab": {
          "base_uri": "https://localhost:8080/"
        },
        "id": "DqHaT_ZHU6x1",
        "outputId": "b2832241-0610-435e-a402-93eec2cd2981"
      },
      "execution_count": null,
      "outputs": [
        {
          "output_type": "execute_result",
          "data": {
            "text/plain": [
              "dict_keys(['tweet_text', 'input_ids', 'attention_mask', 'type_ids', 'targets'])"
            ]
          },
          "metadata": {},
          "execution_count": 34
        }
      ]
    },
    {
      "cell_type": "code",
      "source": [
        "\n",
        "input_ids = data['input_ids'].to(device)\n",
        "attention_mask = data['attention_mask'].to(device)\n",
        "token_type_ids = data['type_ids'].to(device)\n",
        "\n",
        "print(input_ids.shape) # batch size x seq length\n",
        "print(attention_mask.shape) # batch size x seq length\n",
        "print(token_type_ids.shape) # batch size x seq_length"
      ],
      "metadata": {
        "colab": {
          "base_uri": "https://localhost:8080/"
        },
        "id": "vwKNj4T5U8M2",
        "outputId": "950e2216-2352-4e8b-9127-d0a929471939"
      },
      "execution_count": null,
      "outputs": [
        {
          "output_type": "stream",
          "name": "stdout",
          "text": [
            "torch.Size([16, 160])\n",
            "torch.Size([16, 160])\n",
            "torch.Size([16, 160])\n"
          ]
        }
      ]
    },
    {
      "cell_type": "code",
      "source": [
        "data"
      ],
      "metadata": {
        "colab": {
          "base_uri": "https://localhost:8080/"
        },
        "id": "ExubRkjtU9g4",
        "outputId": "74075f1d-4926-4137-cb94-9ed97dcf56a0"
      },
      "execution_count": null,
      "outputs": [
        {
          "output_type": "execute_result",
          "data": {
            "text/plain": [
              "{'attention_mask': tensor([[1, 1, 1,  ..., 0, 0, 0],\n",
              "         [1, 1, 1,  ..., 0, 0, 0],\n",
              "         [1, 1, 1,  ..., 0, 0, 0],\n",
              "         ...,\n",
              "         [1, 1, 1,  ..., 0, 0, 0],\n",
              "         [1, 1, 1,  ..., 0, 0, 0],\n",
              "         [1, 1, 1,  ..., 0, 0, 0]]),\n",
              " 'input_ids': tensor([[   104,  17857,   8096,  ...,      0,      0,      0],\n",
              "         [   104,   8385, 120210,  ...,      0,      0,      0],\n",
              "         [   104,  80460,  31017,  ...,      0,      0,      0],\n",
              "         ...,\n",
              "         [   104,   4842,   3274,  ...,      0,      0,      0],\n",
              "         [   104, 104023,   1373,  ...,      0,      0,      0],\n",
              "         [   104,    100,   1680,  ...,      0,      0,      0]]),\n",
              " 'targets': tensor([-1, -1, -1,  1, -1,  1,  1,  1, -1,  0, -1, -1, -1, -1,  1,  0]),\n",
              " 'tweet_text': ['ज्येष्ठ पत्रकार अनंत दीक्षित यांच्या निधनाचे वृत्त दु:खद आहे चार दशकं त्यांनी आपल्या परखड लेखणीने पत्रकारितेत अमूल्य योगदान दिले दीक्षित यांच्या मार्गदर्शनाखाली पत्रकारांची पिढी घडली अनंत दीक्षित यांना भावपूर्ण श्रद्धांजली आम्ही त्यांच्या परिवाराच्या दु:खात सहभागी आहोत',\n",
              "  'सर्वोच्च न्यायालयाचे निर्देश डावलून पुणे पोलिसांनी प्रा आनंद तेलतुंबडेंना अटक केली मात्र न्यायालयाने त्यांची अटक बेकायदेशीर ठरवून सरकारला जोरदार चपराक लगावली आहे कायदा हातात घेणा-या पोलीस अधिका-यांवर तात्काळ कारवाई केली पाहिजे AnandTeltumbde',\n",
              "  'उद्धव ठाकरेंनी भाजपासोबत युती करून शिवसैनिकांचा अवमान व विश्वासघात केला आहे फसवणूक झालेल्या शिवसैनिकांबद्दल मला सहानुभूती असून स्वार्थासाठी उद्धव ठाकरे भाजपसोबत गेले तरी मोदींचे सरकार घालवण्यातच महाराष्ट्राचे हित आहे हे जाणणारे शिवसैनिक मोदींच्या विरोधात काँग्रेसला मतदान करतील',\n",
              "  'आपला समाज खूप मोठा आहे त्यात अनेक घटक अंतर्भूत आहेत यातील दिव्यांग हा एक घटक, जो शारीरिकदृष्ट्या कमकुवत आहे, त्याच्याकडे समाजाचे दुर्लक्ष होतेय त्यामुळे सरकारने अशा व्यक्तींसाठी उपक्रम राबवून त्यांना समाजात सन्मानाने जगता येईल, याकडे लक्ष देण्याची गरज आहे',\n",
              "  'बलात्काराचा बदला बलात्काराने घेतला पाहिजे हे म्हणणारे सावरकर आम्हाला मान्य नाहीत द्वेष आणि तिरस्कार हिंदू धर्मातही अभिप्रेत कधीच नव्हता आम्ही सावरकरांच्या विचारांचा विरोध करताच राहू त्यात व्यक्तीद्वेष नाही तर वैचारिक विरोध आहे हा देश गांधींच्या विचारांनीच चालेल',\n",
              "  'जरी मी देशाच्या सेवेत मृत्यू पावली तरी मला त्याचा अभिमान वाटेल माझ्या रक्ताचे प्रत्येक थेंब या राष्ट्राच्या विकासास हातभार लावेल आणि ते मजबूत व गतिमान बनवेल-श्रीमती इंदिरा गांधी स्वतंत्र भारताच्या पहिल्या महिला पंतप्रधान इंदिरा गांधी यांना विनम्र अभिवादन IndiraGandhi',\n",
              "  'आज, बारामती शहर परिसरात सुरु असणाऱ्या विविध विकास कामांना प्रत्यक्ष भेटी देत कामाचा आढावा घेतला शहरासह तालुक्यातील कायदा-सुव्यवस्था सुरळीत राखण्यासाठी अवैध व्यवसाय करणाऱ्यांवर कडक कारवाई करण्याचे निर्देश दिले',\n",
              "  'च्या माजी अध्यक्ष स्व प्रभाताई राव यांना जयंतीनिमित्त विनम्र अभिवादन',\n",
              "  'पालखी सोहळ्यात अपघात झाल्याची बातमी दुःखद आहे या रस्त्याचे चौपदरीकरण रखडले आहे जी, महाराष्ट्राच्या भावविश्वात पालखी सोहळ्याला मोठे महत्त्व आहे या सोहळ्यात अपघात घडणे खेदजनक आहे कृपया आपण वैयक्तिक लक्ष घालून पालखी मार्गाचे काम पुर्ण करण्याचे आदेश द्यावेत,ही विनंती',\n",
              "  'आगामी निवडणुकांच्या पार्श्वभूमीवर आज म्हसळा तालुक्यातील कार्यकर्त्यांशी संवाद साधला व त्यांना मार्गदर्शन केले Mhasala Raigad maharashtra assemblyelection2019',\n",
              "  'अखिल भारतीय विद्यार्थी परिषदेपासूनचे माझे सहकारी सुनील शिंदे यांचे वडील अनंत शिंदे म्हणजे आमच्या सर्वांचे दादा यांचे आज सकाळी देहावसान झाले त्यांच्या निधनाने आम्हां सर्वांना अतिशय दु:ख झाले आहे दादांना भावपूर्ण श्रद्धांजली',\n",
              "  'सोलापूरचा कापड व्यवसाय बंद झालेला आहे हा उद्योग शेजारच्या राज्याने बळकावला आहे मात्र सोलापूरला काही देण्याची दानत या सरकारकडे नाही हल्लाबोल सोलापूर',\n",
              "  'पोलिसांनी ठरवलं तर मंदिरासमोरची चप्पल पण चोरीला जाऊ शकत नाही सिंघम चा हा डायलॉग शंभर टक्के खरा आहे पण सुशांत सिंग रजपूतच्या केसमध्ये मुंबई पोलिसांनी का ठरवले नाही कुणी त्यांना ठरवू दिले नाही कुणी त्यांना त्यांच्या नाव-लौकिक,ख्यातीप्रमाणे काम करु दिले नाही 1 2',\n",
              "  'माध्यमांची मुस्कटदाबी आणि अभिव्यक्तीची गळचेपी थांबवा मा राज्यपाल भगतसिंह कोश्यारीजी यांची आज भेट घेऊन त्यांना निवेदन दिले यावेळी माझे सहकारी विनोद तावडेजी, प्रवीण दरेकर, आशीष शेलार, मंगलप्रभात लोढाजी उपस्थित होते',\n",
              "  'कर्जतच्या मारकेवाडीत पोलीस मित्र संघटनेच्या वतीनं आयोजित जाहीर मेळाव्याला उपस्थित राहिलो पोलीस मित्रबांधव आणि त्यांच्या कुटुंबीयांशी संवाद साधला जनतेच्या सुरक्षेखातर अहोरात्र कर्तव्यदक्षता बजावणाऱ्या पोलिसांसोबतच त्यांच्या पाठीशी खंबीर उभं असलेल्या कुटुंबीयांचंही कौतुक केलं',\n",
              "  '💥गजरौला उत्तर प्रदेश येथे अखिल भारतीय किसान संघर्ष समन्वय समितीची सभा सुरु 💥येथे बोलताना खासदार राजू'],\n",
              " 'type_ids': tensor([[0, 0, 0,  ..., 0, 0, 0],\n",
              "         [0, 0, 0,  ..., 0, 0, 0],\n",
              "         [0, 0, 0,  ..., 0, 0, 0],\n",
              "         ...,\n",
              "         [0, 0, 0,  ..., 0, 0, 0],\n",
              "         [0, 0, 0,  ..., 0, 0, 0],\n",
              "         [0, 0, 0,  ..., 0, 0, 0]])}"
            ]
          },
          "metadata": {},
          "execution_count": 36
        }
      ]
    },
    {
      "cell_type": "code",
      "source": [
        "input_ids"
      ],
      "metadata": {
        "colab": {
          "base_uri": "https://localhost:8080/"
        },
        "id": "_lrayt93VASj",
        "outputId": "afad2b80-f736-4ac0-f3ed-2df86f3df9da"
      },
      "execution_count": null,
      "outputs": [
        {
          "output_type": "execute_result",
          "data": {
            "text/plain": [
              "tensor([[   104,  17857,   8096,  ...,      0,      0,      0],\n",
              "        [   104,   8385, 120210,  ...,      0,      0,      0],\n",
              "        [   104,  80460,  31017,  ...,      0,      0,      0],\n",
              "        ...,\n",
              "        [   104,   4842,   3274,  ...,      0,      0,      0],\n",
              "        [   104, 104023,   1373,  ...,      0,      0,      0],\n",
              "        [   104,    100,   1680,  ...,      0,      0,      0]],\n",
              "       device='cuda:0')"
            ]
          },
          "metadata": {},
          "execution_count": 37
        }
      ]
    },
    {
      "cell_type": "code",
      "source": [
        "model(input_ids, attention_mask, token_type_ids)"
      ],
      "metadata": {
        "colab": {
          "base_uri": "https://localhost:8080/"
        },
        "id": "KEmieWKDVG7c",
        "outputId": "a065ef02-fcf2-47fd-dd8e-b7bf179c7674"
      },
      "execution_count": null,
      "outputs": [
        {
          "output_type": "execute_result",
          "data": {
            "text/plain": [
              "tensor([[ 0.0636, -0.0958, -0.0917],\n",
              "        [ 0.0677, -0.0912, -0.0942],\n",
              "        [ 0.0581, -0.0963, -0.0944],\n",
              "        [ 0.0669, -0.0905, -0.0974],\n",
              "        [ 0.0545, -0.0832, -0.0897],\n",
              "        [ 0.0599, -0.0980, -0.0969],\n",
              "        [ 0.0684, -0.0864, -0.0951],\n",
              "        [ 0.0511, -0.0947, -0.0991],\n",
              "        [ 0.0554, -0.0961, -0.0974],\n",
              "        [ 0.0594, -0.0908, -0.0891],\n",
              "        [ 0.0677, -0.0945, -0.1015],\n",
              "        [ 0.0537, -0.0921, -0.0944],\n",
              "        [ 0.0618, -0.0953, -0.0950],\n",
              "        [ 0.0611, -0.0899, -0.0908],\n",
              "        [ 0.0627, -0.0927, -0.0955],\n",
              "        [ 0.0653, -0.0940, -0.0981]], device='cuda:0',\n",
              "       grad_fn=<AddmmBackward0>)"
            ]
          },
          "metadata": {},
          "execution_count": 38
        }
      ]
    },
    {
      "cell_type": "code",
      "source": [
        "F.softmax(model(input_ids, attention_mask, token_type_ids), dim=1)"
      ],
      "metadata": {
        "colab": {
          "base_uri": "https://localhost:8080/"
        },
        "id": "W5Fn4IAqVIP-",
        "outputId": "22757fd8-d6cd-48ff-d94f-36046aca5fcb"
      },
      "execution_count": null,
      "outputs": [
        {
          "output_type": "execute_result",
          "data": {
            "text/plain": [
              "tensor([[0.3717, 0.3132, 0.3150],\n",
              "        [0.3691, 0.3145, 0.3165],\n",
              "        [0.3683, 0.3165, 0.3152],\n",
              "        [0.3672, 0.3164, 0.3164],\n",
              "        [0.3685, 0.3158, 0.3158],\n",
              "        [0.3689, 0.3154, 0.3157],\n",
              "        [0.3701, 0.3152, 0.3148],\n",
              "        [0.3707, 0.3146, 0.3147],\n",
              "        [0.3694, 0.3152, 0.3154],\n",
              "        [0.3691, 0.3159, 0.3150],\n",
              "        [0.3689, 0.3157, 0.3154],\n",
              "        [0.3693, 0.3169, 0.3139],\n",
              "        [0.3693, 0.3148, 0.3159],\n",
              "        [0.3682, 0.3171, 0.3148],\n",
              "        [0.3690, 0.3148, 0.3162],\n",
              "        [0.3671, 0.3171, 0.3158]], device='cuda:0', grad_fn=<SoftmaxBackward0>)"
            ]
          },
          "metadata": {},
          "execution_count": 39
        }
      ]
    },
    {
      "cell_type": "code",
      "source": [
        "EPOCHS = 10\n",
        "optimizer = AdamW(model.parameters(), lr=1e-5, correct_bias=False)\n",
        "total_steps = len(train_data_loader) * EPOCHS\n",
        "\n",
        "scheduler = get_linear_schedule_with_warmup(\n",
        "  optimizer,\n",
        "  num_warmup_steps=0,\n",
        "  num_training_steps=total_steps\n",
        ")\n",
        "\n",
        "loss_fn = nn.CrossEntropyLoss().to(device)"
      ],
      "metadata": {
        "id": "Svns7YsrVKCY"
      },
      "execution_count": null,
      "outputs": []
    },
    {
      "cell_type": "code",
      "source": [
        "def train_epoch(model, data_loader, loss_fn, optimizer, device, scheduler, n_examples):\n",
        "  model = model.train()\n",
        "\n",
        "  losses = []\n",
        "  correct_predictions = 0\n",
        "  \n",
        "  for d in tqdm(data_loader):\n",
        "    input_ids = d[\"input_ids\"].to(device)\n",
        "    attention_mask = d[\"attention_mask\"].to(device)\n",
        "    token_type_ids = d['type_ids'].to(device)\n",
        "    targets = d[\"targets\"].to(device)\n",
        "    targets+=1\n",
        "\n",
        "    outputs = model(\n",
        "      input_ids=input_ids,\n",
        "      attention_mask=attention_mask,\n",
        "      token_type_ids=token_type_ids\n",
        "    )\n",
        "\n",
        "    _, preds = torch.max(outputs, dim=1)\n",
        "  \n",
        "    loss = loss_fn(outputs, targets)\n",
        "\n",
        "    correct_predictions += torch.sum(preds == targets)\n",
        "    losses.append(loss.item())\n",
        "\n",
        "    loss.backward()\n",
        "    nn.utils.clip_grad_norm_(model.parameters(), max_norm=1.0)\n",
        "    optimizer.step()\n",
        "    scheduler.step()\n",
        "    optimizer.zero_grad()\n",
        "\n",
        "  return correct_predictions.double() / n_examples, np.mean(losses)\n"
      ],
      "metadata": {
        "id": "laG5vgmIVMam"
      },
      "execution_count": null,
      "outputs": []
    },
    {
      "cell_type": "code",
      "source": [
        "def eval_model(model, data_loader, loss_fn, device, n_examples):\n",
        "  model = model.eval()\n",
        "\n",
        "  losses = []\n",
        "  correct_predictions = 0\n",
        "\n",
        "  with torch.no_grad():\n",
        "    for d in data_loader:\n",
        "      input_ids = d[\"input_ids\"].to(device)\n",
        "      attention_mask = d[\"attention_mask\"].to(device)\n",
        "      token_type_ids = d['type_ids'].to(device)\n",
        "      targets = d[\"targets\"].to(device)\n",
        "      targets+=1\n",
        "\n",
        "      outputs = model(\n",
        "        input_ids=input_ids,\n",
        "        attention_mask=attention_mask,\n",
        "        token_type_ids=token_type_ids\n",
        "\n",
        "      )\n",
        "      _, preds = torch.max(outputs, dim=1)\n",
        "\n",
        "      loss = loss_fn(outputs, targets)\n",
        "\n",
        "      correct_predictions += torch.sum(preds == targets)\n",
        "      losses.append(loss.item())\n",
        "\n",
        "  return correct_predictions.double() / n_examples, np.mean(losses)\n"
      ],
      "metadata": {
        "id": "TNBvhja9VO-H"
      },
      "execution_count": null,
      "outputs": []
    },
    {
      "cell_type": "code",
      "source": [
        "\n",
        "history = defaultdict(list)\n",
        "best_accuracy = 0\n",
        "\n",
        "for epoch in range(EPOCHS):\n",
        "\n",
        "  print(f'Epoch {epoch + 1}/{EPOCHS}')\n",
        "  print('-' * 10)\n",
        "\n",
        "  train_acc, train_loss = train_epoch(\n",
        "    model,\n",
        "    train_data_loader,    \n",
        "    loss_fn, \n",
        "    optimizer, \n",
        "    device, \n",
        "    scheduler, \n",
        "    len(df_train)\n",
        "  )\n",
        "\n",
        "  print(f'\\n--> Train loss {train_loss} accuracy {train_acc}')\n",
        "\n",
        "  val_acc, val_loss = eval_model(\n",
        "    model,\n",
        "    val_data_loader,\n",
        "    loss_fn, \n",
        "    device, \n",
        "    len(df_valid)\n",
        "  )\n",
        "\n",
        "  print(f'--> Val   loss {val_loss} accuracy {val_acc}')\n",
        "  print()\n",
        "\n",
        "  history['train_acc'].append(train_acc)\n",
        "  history['train_loss'].append(train_loss)\n",
        "  history['val_acc'].append(val_acc)\n",
        "  history['val_loss'].append(val_loss)\n",
        "\n",
        "  if val_acc > best_accuracy:\n",
        "    torch.save(model.state_dict(), 'muril_bilstm_model_state.bin')\n",
        "    best_accuracy = val_acc\n"
      ],
      "metadata": {
        "id": "VPjImpMiVRd8"
      },
      "execution_count": null,
      "outputs": []
    },
    {
      "cell_type": "markdown",
      "source": [
        "# Results"
      ],
      "metadata": {
        "id": "1NkzS2D-f9XA"
      }
    },
    {
      "cell_type": "code",
      "source": [
        "for i in range(len(history[\"train_acc\"])):\n",
        "  history[\"train_acc\"][i]=history[\"train_acc\"][i].cpu() "
      ],
      "metadata": {
        "id": "Up4xxKpHf_hq"
      },
      "execution_count": null,
      "outputs": []
    },
    {
      "cell_type": "code",
      "source": [
        "for i in range(len(history[\"val_acc\"])):\n",
        "  history[\"val_acc\"][i]=history[\"val_acc\"][i].cpu()  "
      ],
      "metadata": {
        "id": "CNzDUH_XgDGe"
      },
      "execution_count": null,
      "outputs": []
    },
    {
      "cell_type": "code",
      "source": [
        "plt.plot(history['train_acc'], label='train accuracy')\n",
        "plt.plot(history['val_acc'], label='validation accuracy')\n",
        "\n",
        "plt.title('Training history')\n",
        "plt.ylabel('Accuracy')\n",
        "plt.xlabel('Epoch')\n",
        "plt.legend()\n",
        "plt.ylim([.8, 1]);"
      ],
      "metadata": {
        "id": "7hPPTemggFnu"
      },
      "execution_count": null,
      "outputs": []
    },
    {
      "cell_type": "markdown",
      "source": [
        "# Evaluation"
      ],
      "metadata": {
        "id": "xcYEBaOHgh1c"
      }
    },
    {
      "cell_type": "code",
      "source": [
        "model2 = SentimentClassifier(len(class_names), muril_model)\n",
        "model2.load_state_dict(torch.load('muril_bilstm_model_state.bin'))\n",
        "model2.eval()"
      ],
      "metadata": {
        "id": "kEUGlUHvZEfK"
      },
      "execution_count": null,
      "outputs": []
    },
    {
      "cell_type": "code",
      "source": [
        "model2 = model2.to(device)"
      ],
      "metadata": {
        "id": "KMn_DI0dZrYV"
      },
      "execution_count": null,
      "outputs": []
    },
    {
      "cell_type": "code",
      "source": [
        "test_acc, _ = eval_model(\n",
        "  model2,\n",
        "  test_data_loader,\n",
        "  loss_fn,\n",
        "  device,\n",
        "  len(df_test)\n",
        ")\n",
        "\n",
        "test_acc.item()"
      ],
      "metadata": {
        "id": "1DbgLmPHgkjg",
        "colab": {
          "base_uri": "https://localhost:8080/"
        },
        "outputId": "1ad06199-aa9d-4ef5-e38c-1882600a52fd"
      },
      "execution_count": null,
      "outputs": [
        {
          "output_type": "execute_result",
          "data": {
            "text/plain": [
              "0.8404444444444444"
            ]
          },
          "metadata": {},
          "execution_count": 49
        }
      ]
    },
    {
      "cell_type": "code",
      "source": [
        "def get_predictions(model, data_loader):\n",
        "  model = model.eval()\n",
        "  \n",
        "  tweet_texts = []\n",
        "  predictions = []\n",
        "  prediction_probs = []\n",
        "  real_values = []\n",
        "\n",
        "  with torch.no_grad():\n",
        "    for d in data_loader:\n",
        "\n",
        "      texts = d[\"tweet_text\"]\n",
        "      input_ids = d[\"input_ids\"].to(device)\n",
        "      attention_mask = d[\"attention_mask\"].to(device)\n",
        "      token_type_ids = d['type_ids'].to(device)\n",
        "      targets = d[\"targets\"].to(device)\n",
        "\n",
        "      outputs = model(\n",
        "        input_ids=input_ids,\n",
        "        attention_mask=attention_mask,\n",
        "        token_type_ids = token_type_ids\n",
        "      )\n",
        "      _, preds = torch.max(outputs, dim=1)\n",
        "\n",
        "      probs = F.softmax(outputs, dim=1)\n",
        "\n",
        "      tweet_texts.extend(texts)\n",
        "      predictions.extend(preds)\n",
        "      prediction_probs.extend(probs)\n",
        "      real_values.extend(targets)\n",
        "\n",
        "  predictions = torch.stack(predictions).cpu()\n",
        "  prediction_probs = torch.stack(prediction_probs).cpu()\n",
        "  real_values = torch.stack(real_values).cpu()\n",
        "  return tweet_texts, predictions, prediction_probs, real_values"
      ],
      "metadata": {
        "id": "qG9tcBizgoTx"
      },
      "execution_count": null,
      "outputs": []
    },
    {
      "cell_type": "code",
      "source": [
        "\n",
        "y_tweet_texts, y_pred, y_pred_probs, y_test = get_predictions(\n",
        "  model,\n",
        "  test_data_loader\n",
        ")"
      ],
      "metadata": {
        "id": "Jy1hyBzdgp4w"
      },
      "execution_count": null,
      "outputs": []
    },
    {
      "cell_type": "code",
      "source": [
        "y_pred-=1"
      ],
      "metadata": {
        "id": "WAg0axWf2sQN"
      },
      "execution_count": null,
      "outputs": []
    },
    {
      "cell_type": "code",
      "source": [
        "print(classification_report(y_test, y_pred, target_names=class_names))"
      ],
      "metadata": {
        "id": "gSGiEUjVgsd-",
        "colab": {
          "base_uri": "https://localhost:8080/"
        },
        "outputId": "5a19e658-a033-4453-b650-504687aeb6f1"
      },
      "execution_count": null,
      "outputs": [
        {
          "output_type": "stream",
          "name": "stdout",
          "text": [
            "              precision    recall  f1-score   support\n",
            "\n",
            "          -1       0.87      0.89      0.88       750\n",
            "           0       0.78      0.82      0.80       750\n",
            "           1       0.87      0.80      0.83       750\n",
            "\n",
            "    accuracy                           0.84      2250\n",
            "   macro avg       0.84      0.84      0.84      2250\n",
            "weighted avg       0.84      0.84      0.84      2250\n",
            "\n"
          ]
        }
      ]
    },
    {
      "cell_type": "code",
      "source": [
        "def show_confusion_matrix(confusion_matrix):\n",
        "  hmap = sns.heatmap(confusion_matrix, annot=True, fmt=\"d\", cmap=\"Blues\")\n",
        "  hmap.yaxis.set_ticklabels(hmap.yaxis.get_ticklabels(), rotation=0, ha='right')\n",
        "  hmap.xaxis.set_ticklabels(hmap.xaxis.get_ticklabels(), rotation=0, ha='right')\n",
        "  plt.ylabel('True sentiment')\n",
        "  plt.xlabel('Predicted sentiment');\n",
        "\n",
        "cm = confusion_matrix(y_test, y_pred)\n",
        "df_cm = pd.DataFrame(cm, index=class_names, columns=class_names)\n",
        "show_confusion_matrix(df_cm)"
      ],
      "metadata": {
        "id": "X_a_HrrDgvfh",
        "colab": {
          "base_uri": "https://localhost:8080/",
          "height": 289
        },
        "outputId": "a21d4812-e3e1-41c2-b5ad-b43580a827ef"
      },
      "execution_count": null,
      "outputs": [
        {
          "output_type": "display_data",
          "data": {
            "text/plain": [
              "<Figure size 432x288 with 2 Axes>"
            ],
            "image/png": "[encoded data removed]"
          },
          "metadata": {
            "image/png": {
              "width": 385,
              "height": 272
            },
            "needs_background": "light"
          }
        }
      ]
    },
    {
      "cell_type": "code",
      "source": [
        "y_test[50:60]"
      ],
      "metadata": {
        "id": "7nq0Dy-fg0C1"
      },
      "execution_count": null,
      "outputs": []
    },
    {
      "cell_type": "code",
      "source": [
        "idx = 50\n",
        "\n",
        "tweet_text = y_tweet_texts[idx]\n",
        "true_sentiment = y_test[idx]\n",
        "pred_df = pd.DataFrame({\n",
        "  'class_names': class_names,\n",
        "  'values': y_pred_probs[idx]\n",
        "})"
      ],
      "metadata": {
        "id": "OvUwvAxLg3J8"
      },
      "execution_count": null,
      "outputs": []
    },
    {
      "cell_type": "code",
      "source": [
        "print('\\n\\n',tweet_text, '\\n\\n')\n",
        "\n",
        "sns.barplot(x='values', y='class_names', data=pred_df, orient='h')\n",
        "plt.ylabel('sentiment')\n",
        "plt.xlabel('probability')\n",
        "plt.xlim([0, 1]);"
      ],
      "metadata": {
        "id": "Q1lsnXkag4z8",
        "colab": {
          "base_uri": "https://localhost:8080/",
          "height": 376
        },
        "outputId": "8aaca90e-559f-4bf8-a54c-6bd3fbec36f6"
      },
      "execution_count": null,
      "outputs": [
        {
          "output_type": "stream",
          "name": "stdout",
          "text": [
            "\n",
            "\n",
            " आमचे मार्गदर्शक, अहमदनगर शहराचे माजी महापौर व माजी नगराध्यक्ष दीप चव्हाण साहेबांना वाढदिवसाच्या मनःपूर्वक शुभेच्छा \n",
            "\n",
            "\n"
          ]
        },
        {
          "output_type": "display_data",
          "data": {
            "text/plain": [
              "<Figure size 432x288 with 1 Axes>"
            ],
            "image/png": "[encoded data removed]"
          },
          "metadata": {
            "image/png": {
              "width": 400,
              "height": 272
            },
            "needs_background": "light"
          }
        }
      ]
    },
    {
      "cell_type": "code",
      "source": [
        "y_test[14], y_tweet_texts[14]"
      ],
      "metadata": {
        "id": "Fut-BCNug6SP"
      },
      "execution_count": null,
      "outputs": []
    },
    {
      "cell_type": "markdown",
      "source": [
        "# Custom Prediction"
      ],
      "metadata": {
        "id": "S-Q6fKgFyYIV"
      }
    },
    {
      "cell_type": "code",
      "source": [
        "# strip -> punctuations  -> @ mentions delete -> url delete ->  remove # from #-tokens -> stop words delete (no delete )  -> rare words no delete)\n",
        "def preprocess(line):\n",
        "\n",
        "  line = line.strip()\n",
        "  line = re.sub(r'\\S*\\.com\\S*',\" \",line)\n",
        "  line = re.sub(r'\\S*\\.in\\S*',\" \",line)\n",
        "  line = re.sub(r'\\S*\\.net\\S*',\" \",line)\n",
        "  line = re.sub(r'\\S*\\.me\\S*',\" \",line)\n",
        "  line = re.sub(r'\\s+:\\s+',\" \",line)\n",
        "  line = re.sub(r'\\s+-\\s+',\" \",line)\n",
        "  \n",
        "  \n",
        "  line = re.sub(r'/https?\\/\\/(.*\\.(in))\\//',\" \",line)\n",
        "  line = re.split(r'\\s+|[!$%&()*+./;<=>?\\^`{|}~\\'\\\"]\\s*', line)\n",
        "  line = [token.strip() for token in line if token != '' and token != ' ' and token != '\\n']\n",
        "  \n",
        "  if len(line) > 1:\n",
        "    tokens = []\n",
        "    for i in range(len(line)):\n",
        "      if line[i][0] == '#':\n",
        "        tokens.append(line[i][1:])\n",
        "      elif line[i][0] == '@' or line[i][0] in string.punctuation :\n",
        "        continue\n",
        "      else:\n",
        "        tokens.append(line[i])\n",
        "    return tokens\n"
      ],
      "metadata": {
        "id": "MSw8o7WT0vD-"
      },
      "execution_count": null,
      "outputs": []
    },
    {
      "cell_type": "code",
      "source": [
        "tweet_text = \"नमो सरकारला साधी अडचने पार पाडण्याची बुद्धी नाही आहे. एकदम मूर्खपणाचे लक्षण आहे\"\n",
        "tweet_text = \"प्रौढ प्रताप पुरंदर, क्षत्रिय कुलावतंस, सिंहासनाधीश्वर, महाराजाधिराज महाराज श्रीमंत श्री छत्रपती शिवाजी महाराज की जय\"\n",
        "tweet_text = \"मनाचे वेधना किती सोसावे सामान्य माणसाने\"\n",
        "tweet_text = \"माननीय महोदय संजय विचारे यांच्या अपघाताची बातमी आज कळाली. खूप वाईट वाटले.\"\n",
        "tweet_text = \"नमो सरकारला साधी अडचने पार पाडण्याची बुद्धी नाही आहे. एकदम मूर्खपणाचे लक्षण आहे\"\n",
        "tweet_text = \"गढ आला पण माझा सिंह गेला\"\n",
        "tweet_text = \"मैदानात हजारो कंडोम पाकीटं कुणी फेकली?; खुलासा होताच अधिकाऱ्यांनी डोक्यावर हात मारला\"\n",
        "tweet_text = \"महाशिवरात्रीच्या सर्वांना हार्दिक हार्दिक शुभेच्छा\"\n",
        "tweet_text= \"नमो सरकारला साधी अडचने पार पाडण्याची बुद्धी नाही आहे. एकदम मूर्खपणाचे लक्षण आहे\"\n",
        "tweet_text = \"हिंदू धर्मात मुलांना लहानपणापासून आपला धर्मग्रंथ गीता शिकवला जात नाही हे सत्य आहे.\"\n",
        "tweet_text = \"प्रा. यारकुंडकरांसारख्या थोर वयकतीमत्वाचा परिचय देताना, मला आज प्रचंड अभिमान वाटतोय.\"\n",
        "tweet_text = preprocess(tweet_text)\n",
        "tweet_text = \" \".join(tweet_text)"
      ],
      "metadata": {
        "id": "qNzE5THryqEX"
      },
      "execution_count": null,
      "outputs": []
    },
    {
      "cell_type": "code",
      "source": [
        "\n",
        "encoded_tweet = tokenizer.encode_plus(\n",
        "  tweet_text,\n",
        "  max_length=MAX_LEN,\n",
        "  add_special_tokens=True,\n",
        "  return_token_type_ids=True,\n",
        "  pad_to_max_length=True,\n",
        "  return_attention_mask=True,\n",
        "  return_tensors='pt',\n",
        ")\n"
      ],
      "metadata": {
        "id": "mcj_N_NPyv3D"
      },
      "execution_count": null,
      "outputs": []
    },
    {
      "cell_type": "code",
      "source": [
        "input_ids = encoded_tweet['input_ids'].to(device)\n",
        "attention_mask = encoded_tweet['attention_mask'].to(device)\n",
        "token_type_ids = encoded_tweet['token_type_ids'].to(device)\n",
        "\n",
        "output = model(input_ids, attention_mask, token_type_ids)\n",
        "_, prediction = torch.max(output, dim=1)\n",
        "\n",
        "print(f'Tweet text: {tweet_text}')\n",
        "print(f'Sarcasm  : {class_names[prediction]}')"
      ],
      "metadata": {
        "id": "lQ86vuoRyyrh",
        "colab": {
          "base_uri": "https://localhost:8080/"
        },
        "outputId": "5b6b36da-aa01-44d5-9f27-39fcf9ecfcf2"
      },
      "execution_count": null,
      "outputs": [
        {
          "output_type": "stream",
          "name": "stdout",
          "text": [
            "Tweet text: प्रा यारकुंडकरांसारख्या थोर वयकतीमत्वाचा परिचय देताना, मला आज प्रचंड अभिमान वाटतोय\n",
            "Sarcasm  : 1\n"
          ]
        }
      ]
    },
    {
      "cell_type": "code",
      "source": [
        ""
      ],
      "metadata": {
        "id": "Ib0RmKH-y0hT"
      },
      "execution_count": null,
      "outputs": []
    }
  ]
}